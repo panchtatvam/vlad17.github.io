{
 "cells": [
  {
   "cell_type": "code",
   "execution_count": 6,
   "metadata": {
    "collapsed": true
   },
   "outputs": [],
   "source": [
    "import pandas as pd\n",
    "# unzip ml-20.zip into cwd\n",
    "movies = pd.read_csv('movies.csv')\n",
    "ratings = pd.read_csv('ratings.csv')"
   ]
  },
  {
   "cell_type": "code",
   "execution_count": 7,
   "metadata": {},
   "outputs": [
    {
     "data": {
      "text/html": [
       "<div>\n",
       "<style scoped>\n",
       "    .dataframe tbody tr th:only-of-type {\n",
       "        vertical-align: middle;\n",
       "    }\n",
       "\n",
       "    .dataframe tbody tr th {\n",
       "        vertical-align: top;\n",
       "    }\n",
       "\n",
       "    .dataframe thead th {\n",
       "        text-align: right;\n",
       "    }\n",
       "</style>\n",
       "<table border=\"1\" class=\"dataframe\">\n",
       "  <thead>\n",
       "    <tr style=\"text-align: right;\">\n",
       "      <th></th>\n",
       "      <th>userId</th>\n",
       "      <th>rating</th>\n",
       "      <th>timestamp</th>\n",
       "      <th>title</th>\n",
       "      <th>genres</th>\n",
       "    </tr>\n",
       "  </thead>\n",
       "  <tbody>\n",
       "    <tr>\n",
       "      <th>0</th>\n",
       "      <td>1</td>\n",
       "      <td>3.5</td>\n",
       "      <td>1112486027</td>\n",
       "      <td>Grumpier Old Men (1995)</td>\n",
       "      <td>Comedy|Romance</td>\n",
       "    </tr>\n",
       "    <tr>\n",
       "      <th>1</th>\n",
       "      <td>1</td>\n",
       "      <td>3.5</td>\n",
       "      <td>1112484676</td>\n",
       "      <td>Shanghai Triad (Yao a yao yao dao waipo qiao) ...</td>\n",
       "      <td>Crime|Drama</td>\n",
       "    </tr>\n",
       "    <tr>\n",
       "      <th>2</th>\n",
       "      <td>1</td>\n",
       "      <td>3.5</td>\n",
       "      <td>1112484819</td>\n",
       "      <td>Wings of Courage (1995)</td>\n",
       "      <td>Adventure|Romance|IMAX</td>\n",
       "    </tr>\n",
       "    <tr>\n",
       "      <th>3</th>\n",
       "      <td>1</td>\n",
       "      <td>3.5</td>\n",
       "      <td>1112484727</td>\n",
       "      <td>Pocahontas (1995)</td>\n",
       "      <td>Animation|Children|Drama|Musical|Romance</td>\n",
       "    </tr>\n",
       "    <tr>\n",
       "      <th>4</th>\n",
       "      <td>1</td>\n",
       "      <td>3.5</td>\n",
       "      <td>1112484580</td>\n",
       "      <td>Guardian Angel (1994)</td>\n",
       "      <td>Action|Drama|Thriller</td>\n",
       "    </tr>\n",
       "  </tbody>\n",
       "</table>\n",
       "</div>"
      ],
      "text/plain": [
       "   userId  rating   timestamp  \\\n",
       "0       1     3.5  1112486027   \n",
       "1       1     3.5  1112484676   \n",
       "2       1     3.5  1112484819   \n",
       "3       1     3.5  1112484727   \n",
       "4       1     3.5  1112484580   \n",
       "\n",
       "                                               title  \\\n",
       "0                            Grumpier Old Men (1995)   \n",
       "1  Shanghai Triad (Yao a yao yao dao waipo qiao) ...   \n",
       "2                            Wings of Courage (1995)   \n",
       "3                                  Pocahontas (1995)   \n",
       "4                              Guardian Angel (1994)   \n",
       "\n",
       "                                     genres  \n",
       "0                            Comedy|Romance  \n",
       "1                               Crime|Drama  \n",
       "2                    Adventure|Romance|IMAX  \n",
       "3  Animation|Children|Drama|Musical|Romance  \n",
       "4                     Action|Drama|Thriller  "
      ]
     },
     "execution_count": 7,
     "metadata": {},
     "output_type": "execute_result"
    }
   ],
   "source": [
    "df = ratings.join(movies, on='movieId', rsuffix='drop').drop(columns=['movieId', 'movieIddrop'])\n",
    "df.head()"
   ]
  },
  {
   "cell_type": "code",
   "execution_count": 8,
   "metadata": {},
   "outputs": [
    {
     "data": {
      "text/plain": [
       "(27278, 20000263, 733.2012244299435)"
      ]
     },
     "execution_count": 8,
     "metadata": {},
     "output_type": "execute_result"
    }
   ],
   "source": [
    "len(movies), len(ratings), len(ratings) / len(movies)"
   ]
  },
  {
   "cell_type": "code",
   "execution_count": 9,
   "metadata": {
    "collapsed": true
   },
   "outputs": [],
   "source": [
    "df.title.to_pickle('title')"
   ]
  },
  {
   "cell_type": "code",
   "execution_count": 1,
   "metadata": {
    "collapsed": true
   },
   "outputs": [],
   "source": [
    "import pandas as pd\n",
    "titles = pd.read_pickle('title').fillna('null')"
   ]
  },
  {
   "cell_type": "code",
   "execution_count": 2,
   "metadata": {},
   "outputs": [
    {
     "data": {
      "text/plain": [
       "0                              Grumpier Old Men (1995)\n",
       "1    Shanghai Triad (Yao a yao yao dao waipo qiao) ...\n",
       "2                              Wings of Courage (1995)\n",
       "3                                    Pocahontas (1995)\n",
       "4                                Guardian Angel (1994)\n",
       "Name: title, dtype: object"
      ]
     },
     "execution_count": 2,
     "metadata": {},
     "output_type": "execute_result"
    }
   ],
   "source": [
    "titles.head()"
   ]
  },
  {
   "cell_type": "code",
   "execution_count": 3,
   "metadata": {},
   "outputs": [
    {
     "data": {
      "text/plain": [
       "20000263"
      ]
     },
     "execution_count": 3,
     "metadata": {},
     "output_type": "execute_result"
    }
   ],
   "source": [
    "len(titles)"
   ]
  },
  {
   "cell_type": "code",
   "execution_count": 4,
   "metadata": {},
   "outputs": [
    {
     "data": {
      "text/plain": [
       "9260"
      ]
     },
     "execution_count": 4,
     "metadata": {},
     "output_type": "execute_result"
    }
   ],
   "source": [
    "cat_titles = titles.astype(\n",
    "    pd.api.types.CategoricalDtype(\n",
    "        pd.unique(titles)))\n",
    "len(cat_titles.cat.categories)"
   ]
  },
  {
   "cell_type": "code",
   "execution_count": 5,
   "metadata": {},
   "outputs": [
    {
     "data": {
      "text/plain": [
       "20000263"
      ]
     },
     "execution_count": 5,
     "metadata": {},
     "output_type": "execute_result"
    }
   ],
   "source": [
    "len(cat_titles.cat.codes)"
   ]
  },
  {
   "cell_type": "code",
   "execution_count": 6,
   "metadata": {},
   "outputs": [
    {
     "data": {
      "image/png": "[encoded data removed]",
      "text/plain": [
       "<matplotlib.figure.Figure at 0x7f8b4cd6ada0>"
      ]
     },
     "metadata": {},
     "output_type": "display_data"
    }
   ],
   "source": [
    "%matplotlib inline\n",
    "import matplotlib.pyplot as plt\n",
    "counts_desc = cat_titles.value_counts().values\n",
    "assert sorted(counts_desc, reverse=True)\n",
    "\n",
    "plt.plot(counts_desc[1:]) # 0-th is too large\n",
    "plt.xlabel(\"movie index, by popularity\")\n",
    "plt.ylabel(\"log # times movie appears\")\n",
    "plt.title(\"movie apperance count among ratings\")\n",
    "plt.show()"
   ]
  },
  {
   "cell_type": "code",
   "execution_count": 7,
   "metadata": {},
   "outputs": [
    {
     "data": {
      "text/plain": [
       "array([3204, 5575, 7918, 9259])"
      ]
     },
     "execution_count": 7,
     "metadata": {},
     "output_type": "execute_result"
    }
   ],
   "source": [
    "import numpy as np\n",
    "cdf = counts_desc.cumsum() / counts_desc.sum()\n",
    "np.searchsorted(cdf, [.95, .99, .999, 1])"
   ]
  },
  {
   "cell_type": "code",
   "execution_count": 1,
   "metadata": {
    "collapsed": true
   },
   "outputs": [],
   "source": [
    "import numpy as np\n",
    "from collections import Counter\n",
    "from scipy.stats import truncnorm\n",
    "%load_ext memory_profiler\n",
    "d = 10000\n",
    "e = 1000\n",
    "n = 100000000\n",
    "if d < n:\n",
    "    dindices = np.random.geometric(p=0.01, size=(n - d)) - 1\n",
    "    dindices = np.concatenate([dindices, np.arange(d)])\n",
    "    dcounts = np.bincount(dindices)\n",
    "    selected = dcounts.argsort()[::-1][:e]\n",
    "else:\n",
    "    dindices = np.random.choice(d, n // 2)\n",
    "    frequent = np.random.choice(n, n - n // 2)\n",
    "    dindices = np.concatenate([dindices, frequent])\n",
    "    c = Counter(dindices)\n",
    "    selected = np.asarray(sorted(c, key=c.get, reverse=True)[:e])"
   ]
  },
  {
   "cell_type": "code",
   "execution_count": 2,
   "metadata": {},
   "outputs": [
    {
     "name": "stdout",
     "output_type": "stream",
     "text": [
      "peak memory: 2401.04 MiB, increment: 1546.69 MiB\n"
     ]
    }
   ],
   "source": [
    "%%memit\n",
    "\n",
    "searched = np.searchsorted(selected, dindices)\n",
    "selected2 = np.append(selected, [-1])\n",
    "searched[selected2[searched] != dindices] = -1\n",
    "searched[searched == -1] = e\n",
    "result = searched"
   ]
  },
  {
   "cell_type": "code",
   "execution_count": 3,
   "metadata": {},
   "outputs": [
    {
     "name": "stdout",
     "output_type": "stream",
     "text": [
      "5.07 s ± 55.6 ms per loop (mean ± std. dev. of 7 runs, 1 loop each)\n"
     ]
    }
   ],
   "source": [
    "%%timeit\n",
    "\n",
    "searched = np.searchsorted(selected, dindices)\n",
    "selected2 = np.append(selected, [-1])\n",
    "searched[selected2[searched] != dindices] = -1\n",
    "searched[searched == -1] = e\n",
    "result = searched"
   ]
  },
  {
   "cell_type": "code",
   "execution_count": 3,
   "metadata": {},
   "outputs": [
    {
     "name": "stdout",
     "output_type": "stream",
     "text": [
      "peak memory: 1501.95 MiB, increment: 647.29 MiB\n"
     ]
    }
   ],
   "source": [
    "%%memit\n",
    "mapping = np.full(d, e)\n",
    "mapping[selected] = np.arange(e)\n",
    "dindices = np.take(mapping, dindices)"
   ]
  },
  {
   "cell_type": "code",
   "execution_count": 3,
   "metadata": {},
   "outputs": [
    {
     "name": "stdout",
     "output_type": "stream",
     "text": [
      "330 ms ± 6.82 ms per loop (mean ± std. dev. of 7 runs, 1 loop each)\n"
     ]
    }
   ],
   "source": [
    "%%timeit\n",
    "mapping = np.full(d, e)\n",
    "mapping[selected] = np.arange(e)\n",
    "dindices = np.take(mapping, dindices)"
   ]
  }
 ],
 "metadata": {
  "kernelspec": {
   "display_name": "Python 3",
   "language": "python",
   "name": "python3"
  },
  "language_info": {
   "codemirror_mode": {
    "name": "ipython",
    "version": 3
   },
   "file_extension": ".py",
   "mimetype": "text/x-python",
   "name": "python",
   "nbconvert_exporter": "python",
   "pygments_lexer": "ipython3",
   "version": "3.6.2"
  }
 },
 "nbformat": 4,
 "nbformat_minor": 2
}
