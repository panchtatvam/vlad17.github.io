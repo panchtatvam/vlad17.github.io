{
 "cells": [
  {
   "cell_type": "markdown",
   "metadata": {},
   "source": [
    "# Discrete Residues\n",
    "\n",
    "In the previous post, we discussed a particular quantity, $\\mathbb{P}\\{X=1\\}$, where $X$ follows a Poisson Binomial distribution, parameterized by $\\{p_j\\}_{j=1}^n$. This means that $X=\\sum_jX_j$, where $X_j$ are Bernoulli-$p_j$ independent random variables.\n",
    "\n",
    "We came up with an $O(1)$ memory and $O(n)$ time approach to computing the desired probability, and gave an example where even the best approximations can be poor.\n",
    "\n",
    "What about a more general question? Let's take a look at what it takes to find $\\xi_k=\\mathbb{P}\\{X=k\\}$ for arbitrary $k$.\n",
    "\n",
    "### Existing Approaches\n",
    "\n",
    "The state-of-the-art here is an [FFT-based approach called DFT-CF](https://www.sciencedirect.com/science/article/abs/pii/S0167947312003568), which computes the characteristic function of $X$, $\\phi(t)=G_X(e^{it})$. It turns out that the array $\\xi_k=\\mathbb{P}\\{X=k\\}$ is the DFT of $x_k=\\phi\\left(\\frac{2\\pi k}{n+1}\\right)$. Note that computing $\\{x_k\\}$ is the most expensive part of this routine, taking quadratic time.\n",
    "\n",
    "The above paper refers to RF1, which is the straightforward extension of the \"coefficient list\" approach from the previous post, shown here as a direct convolution by [whuber](https://stats.stackexchange.com/a/41263/37308). For some reason, the article author uses $O(n^2)$ space for RF1, but this is gratuitous.\n",
    "\n",
    "Indeed, the coefficient list algorithm (henceforth, CL), requires $O(n)$ memory and $O(nk)$ time, computes $\\{\\xi_{k'}\\}_{k'=1}^k$, and has the nice property of doing less work if $k$ is small, but in the worst case $k=n$ it's still very straightforward to understand. In particular, recall the definition of the PGF $G_X(t)=\\mathbb{E}t^X$ from the previous post, which we can see satisfies $\\xi_k=\\mathbb{P}\\{X=k\\}=\\frac{G^{(k)}_X(0)}{k!}$ by expanding the series $\\mathbb{E}t^X$.\n",
    "\n",
    "For our Poisson Binomial $X$, notice $G_X(t)=\\prod_j(1-p_j(1-t))$ is a degree-$n$ polynomial, so its $k$-th coefficient is exactly $\\frac{G^{(k)}_X(0)}{k!}=\\xi_k$.\n",
    "\n",
    "Now we can imagine $n$ variables $Y_j$ for $j\\in[n]$, where $Y_j$ is Poisson Binomial with parameters $\\{p_{j'}\\}_{j'=1}^j$. Clearly $Y_n=X$ and $G_{Y_{j-1}}(t)(1-p_j(1-t))=G_{Y_j}(t)$. By the above observation, we only care about the lowest $k$ coefficients of the final answer. The product of two polynomials $G_{Y_{j-1}}(t)(1-p_j(1-t))$ is just the convolution of their coefficient lists, and if we only maintain the first $k$ coefficients of the accumulation term, the coefficient list of $(1-p_j(1-t))$ is just $[1-p_j, p_j]$, which is length two, and thus each multiplication requires $O(k)$ time."
   ]
  },
  {
   "cell_type": "code",
   "execution_count": 7,
   "metadata": {},
   "outputs": [
    {
     "data": {
      "image/png": "[encoded data removed]",
      "text/plain": [
       "<Figure size 432x288 with 1 Axes>"
      ]
     },
     "metadata": {
      "needs_background": "light"
     },
     "output_type": "display_data"
    }
   ],
   "source": [
    "import numpy as np\n",
    "\n",
    "np.random.seed(1234)\n",
    "n = 1000\n",
    "p = np.random.rand(n)\n",
    "p.sort()\n",
    "\n",
    "def shift(x, y):\n",
    "    y[1:] = x[:-1]\n",
    "    y[0] = 0\n",
    "\n",
    "def cl(p, k):\n",
    "    p = p.copy()\n",
    "    p.sort()\n",
    "    xi = np.zeros(k)\n",
    "    xi[0] = 1\n",
    "    xi2 = np.zeros(k)\n",
    "    shift(xi, xi2)\n",
    "    for pp in p:\n",
    "        xi *= (1 - pp)\n",
    "        xi += pp * xi2\n",
    "        shift(xi, xi2)\n",
    "    return xi\n",
    "\n",
    "pmf = cl(p, 1001)\n",
    "samples = 10 * 1000\n",
    "\n",
    "samples = np.sum(np.random.rand(samples, len(p)) < p, axis=1)\n",
    "\n",
    "%matplotlib inline\n",
    "from matplotlib import pyplot as plt\n",
    "plt.hist(samples, density=True, label='empirical', bins=30)\n",
    "plt.plot(pmf, label='CL')\n",
    "plt.legend(bbox_to_anchor=(1.01, 0.5), loc='center left')\n",
    "plt.xlim(400, 600)\n",
    "plt.xlabel(\"k\")\n",
    "plt.ylabel(r\"$\\xi_k$\")\n",
    "plt.title(r\"Poisson Binomial $n=1000$, $p_j\\sim Unif[0,1]$\")\n",
    "plt.show()"
   ]
  },
  {
   "cell_type": "code",
   "execution_count": 2,
   "metadata": {},
   "outputs": [
    {
     "data": {
      "text/plain": [
       "True"
      ]
     },
     "execution_count": 2,
     "metadata": {},
     "output_type": "execute_result"
    }
   ],
   "source": [
    "def dft_cf(p):\n",
    "    n = len(p)\n",
    "    phi = np.zeros(n + 1) + 0j\n",
    "    phi[0] = 1\n",
    "    for k in range(1, 1 + n // 2):\n",
    "        phi[k] = np.prod((1 - p + p * np.exp(2j * np.pi * k / (n + 1))))\n",
    "    phi[n // 2 + 1:] = np.conj(phi[n // 2:n % 2:-1])\n",
    "    return np.fft.fft(phi / (n + 1)).real\n",
    "    \n",
    "np.allclose(dft_cf(p), cl(p, n + 1))"
   ]
  },
  {
   "cell_type": "code",
   "execution_count": 3,
   "metadata": {},
   "outputs": [
    {
     "name": "stdout",
     "output_type": "stream",
     "text": [
      "2^10   0.023 (  0.1x prev)\n",
      "2^11   0.087 (  3.8x prev)\n",
      "2^12   0.360 (  4.1x prev)\n",
      "2^13   1.692 (  4.7x prev)\n",
      "2^14   6.597 (  3.9x prev)\n"
     ]
    }
   ],
   "source": [
    "%%script Rscript --vanilla /dev/stdin\n",
    "\n",
    "# poibin is the R package by the DFT-CF author\n",
    "library(poibin)\n",
    "set.seed(1234)\n",
    "\n",
    "prev <- 1\n",
    "for (i in 10:14) {\n",
    "    n <- 2 ^ i\n",
    "    tot <- 0\n",
    "    for (j in 1:5) {\n",
    "        p <- runif(n)\n",
    "        ptm <- proc.time()\n",
    "        invisible(dpoibin(kk=0:n, pp=p))\n",
    "        ptm <- proc.time() - ptm\n",
    "        ptm <- ptm[\"elapsed\"]\n",
    "        tot <- tot + ptm\n",
    "    }\n",
    "    ratio <- tot / prev\n",
    "    prev <- tot\n",
    "    \n",
    "    write(sprintf(\"2^%2d %7.3f (%5.1fx prev)\", i, prev / 5, ratio), file=stdout())\n",
    "}"
   ]
  },
  {
   "cell_type": "code",
   "execution_count": 4,
   "metadata": {},
   "outputs": [
    {
     "name": "stdout",
     "output_type": "stream",
     "text": [
      "CL\n",
      "2^10   0.008 (  0.0x prev)\n",
      "2^11   0.023 (  3.0x prev)\n",
      "2^12   0.076 (  3.3x prev)\n",
      "2^13   0.287 (  3.8x prev)\n",
      "2^14   1.322 (  4.6x prev)\n",
      "DFT-CF\n",
      "2^10   0.011 (  0.1x prev)\n",
      "2^11   0.034 (  3.1x prev)\n",
      "2^12   0.128 (  3.8x prev)\n",
      "2^13   0.694 (  5.4x prev)\n",
      "2^14   4.377 (  6.3x prev)\n"
     ]
    }
   ],
   "source": [
    "from time import time\n",
    "\n",
    "def bench(f):\n",
    "    np.random.seed(1234)\n",
    "    prev = 1\n",
    "    for i in range(10, 15):\n",
    "        n = 2 ** i\n",
    "        tot = 0\n",
    "        for _ in range(5):\n",
    "            p = np.random.rand(n)\n",
    "            t = time()\n",
    "            f(p)\n",
    "            tot += time() - t\n",
    "        ratio = tot / prev\n",
    "        prev = tot\n",
    "        print(\"2^{:2d} {:7.3f} ({:5.1f}x prev)\".format(i, prev / 5, ratio))\n",
    "\n",
    "print('CL')\n",
    "bench(lambda p: cl(p, len(p) + 1))\n",
    "\n",
    "print('DFT-CF')\n",
    "bench(dft_cf)"
   ]
  },
  {
   "cell_type": "markdown",
   "metadata": {},
   "source": [
    "OK, so that's pretty neat, the FFT paper's R code runs in quadratic time, neatly quadrupling in runtime for every doubling of input. The numpy versions are a bit noisier in their scaling but uniformly faster.\n",
    "\n",
    "### What Else is There?\n",
    "\n",
    "So, neat, looks like we have a straightforward way (CL) for dealing with Poisson Binomials, with a grand total of $O(n^2)$ time and $O(n)$ memory for the full PMF, and a specialization that the first $k$ terms $\\{\\xi_{k'}\\}_{k'=1}^k$ can be computed in $O(nk)$ time and $O(k)$ memory.\n",
    "\n",
    "What if I'm just interested in a single $\\mathbb{P}\\{X=k\\}$ query? Is there a non-quadratic answer to this problem?\n",
    "\n",
    "In particular, I might be interested in the inverse survival function, which for fixed $\\alpha$ finds the smallest $k$ such that $\\mathbb{P}\\{X\\ge k\\}\\le\\alpha$. Sure, we can run the quadratic algorithms, but if we could answer queries quickly, say in $O(n)$ time and $O(1)$ memory, then the inverse survival function can be found quickly through binary search. This could be used for hypothesis testing, for instance.\n",
    "\n",
    "We'll focus on Poisson Binomials but everything discussed here will apply to any discrete variables with analytic PGFs, and performance implications for answering queries will tend to be \"quadratic to linear\" if the discrete variable is an independent sum.\n",
    "\n",
    "### Discrete Residues\n",
    "\n",
    "Recall that for analytic $f$, Cauchy's integral formula tells us that\n",
    "\n",
    "$$\n",
    "\\frac{f^{(k)}(0)}{k!}=\\frac{1}{2\\pi i}\\oint_\\gamma \\frac{f(z)}{z^{k+1}}dz\\,\\,,\n",
    "$$\n",
    "\n",
    "for an appropriately-oriented closed curve $\\gamma$ winding once around $0$. So all we have to do to get $\\xi_k=\\frac{G_X^{(k)}(0)}{k!}$ is to take the residue of the corresponding pole. To actually take an integral, keyboard to bits, we first convert it to a line integral with the parameterization around the unit circle $\\gamma$ with $z=e^{i\\theta}$:\n",
    "\n",
    "$$\n",
    "2\\pi i\\xi_k =\\oint_\\gamma\\frac{f(z)}{z^{k+1}}dz =\\int_{-\\pi}^{\\pi}iG_X(e^{i\\theta})\\exp(-ki\\theta)d\\theta\\,\\,.\n",
    "$$"
   ]
  },
  {
   "cell_type": "code",
   "execution_count": 6,
   "metadata": {},
   "outputs": [
    {
     "name": "stdout",
     "output_type": "stream",
     "text": [
      "cl time 0.3863358497619629\n",
      "q  time 0.15331459045410156\n",
      "cl vals [0.00978 0.00979 0.00979]\n",
      "q  vals [0.00978 0.00979 0.00979]\n"
     ]
    }
   ],
   "source": [
    "from scipy.integrate import fixed_quad, quad\n",
    "import numpy as np\n",
    "from numba import jit\n",
    "\n",
    "def integrand(p):\n",
    "    @jit(\"float64(float64, float64[:], float64)\", nopython=True)\n",
    "    def compiled_f(x, p, k):\n",
    "        return np.real((\n",
    "            # G_X(e^(ix))\n",
    "            np.prod(1 - p * (1 - np.exp(1j * x)))\n",
    "            # e^(-kix)\n",
    "            * np.exp(1j * x * -k)\n",
    "        ) / 2 / np.pi)\n",
    "    def f(x, k):\n",
    "        return compiled_f(x, p, k)\n",
    "    return f\n",
    "\n",
    "def query(p):\n",
    "    f = integrand(p)\n",
    "    def queryk(k):\n",
    "        return quad(lambda x: f(x, k), -np.pi, np.pi)[0]\n",
    "    return queryk\n",
    "\n",
    "\n",
    "np.random.seed(1234)\n",
    "n = 10000\n",
    "p = np.random.rand(n)\n",
    "p.sort()\n",
    "\n",
    "queries = n // 2 - 1, n // 2, n // 2 + 1\n",
    "\n",
    "t = time()\n",
    "pmf = cl(p, len(p) + 1)\n",
    "pmf_vals = [pmf[k] for k in queries]\n",
    "cl_t = time() - t\n",
    "\n",
    "q = query(p)\n",
    "t = time()\n",
    "q_vals = [q(k) for k in queries]\n",
    "q_t = time() - t\n",
    "\n",
    "print('cl time', cl_t)\n",
    "print('q  time', q_t)\n",
    "with np.printoptions(precision=5):\n",
    "    print('cl vals', np.array(pmf_vals))\n",
    "    print('q  vals', np.array(q_vals))"
   ]
  },
  {
   "cell_type": "markdown",
   "metadata": {},
   "source": [
    "Note that above I just integrated\n",
    "\n",
    "$$\n",
    "\\xi_k=\\int_{-pi}^\\pi\\mathrm{Re}\\,\\frac{G_X(e^{i\\theta})\\exp(-ki\\theta)}{2\\pi}d\\theta\\,\\,,\n",
    "$$\n",
    "\n",
    "directly, letting me use the adaptive quadrature routine. It may be cheating to say this is $O(n)$ time, since accurate quadrature may need more samples. Nonetheless, the example above demonstrates it's viable for large $n$ compared to the quadratic method.\n",
    "\n",
    "Again, what's neat about discrete residues is that any analytic $G_X$ can be used, so it's not just specific to the Poisson Binomial.\n",
    "\n",
    "That's it for the main technique. It's interesting to think about parallelization, both for the main CL method and for integration directly."
   ]
  }
 ],
 "metadata": {
  "kernelspec": {
   "display_name": "Python 3",
   "language": "python",
   "name": "python3"
  },
  "language_info": {
   "codemirror_mode": {
    "name": "ipython",
    "version": 3
   },
   "file_extension": ".py",
   "mimetype": "text/x-python",
   "name": "python",
   "nbconvert_exporter": "python",
   "pygments_lexer": "ipython3",
   "version": "3.7.4"
  }
 },
 "nbformat": 4,
 "nbformat_minor": 2
}
