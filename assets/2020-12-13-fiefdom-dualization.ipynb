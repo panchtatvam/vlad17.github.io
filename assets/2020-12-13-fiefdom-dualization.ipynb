{
 "cells": [
  {
   "cell_type": "markdown",
   "metadata": {},
   "source": [
    "# FIEFdom Dualization\n",
    "\n",
    "[AAA](http://aaa.princeton.edu/orf523) once taught me a generic dualization technique, which I remember with a mnemonic FIEFdom. Being able to take duals on the fly has been really useful in practical optimization scenarios for me, because they:\n",
    "\n",
    "* may provide computationally faster ways to solve primal problems.\n",
    "* provide certificates for lower bounds of optimization problems.\n",
    "\n",
    "The last point in particular means for particularly nasty and spiky global optimization problems we can use random search and know when to stop, because if you're within $\\epsilon$ of a dual problem solution in objective value, you're at most that far away from your optimum in the primal.\n",
    "\n",
    "FIEFdom lets you derive Lagrangian duals for mathematical programs. In particular, given a primal problem of the form (everything except $p^*,f,d^*,f'$ below being vector-valued, inequalities holding entrywise)\n",
    "$$\n",
    "p^*=\\min_x f(x)\\,\\text{s.t.}\\,g(x)=0,h(x)\\le 0\\,,\n",
    "$$\n",
    "we'd like to derive a dual problem\n",
    "$$\n",
    "d^*=\\max_y f'(y)\\,\\text{s.t.}\\,g'(y)=0,h'(y)\\le 0\n",
    "$$\n",
    "where $d^*\\le p^*$ (weak duality) and whenever possible $d^*=p^*$ (strong duality)."
   ]
  },
  {
   "cell_type": "markdown",
   "metadata": {},
   "source": [
    "## LP Example\n",
    "\n",
    "When I first learned linear programming, I rotely commited standard forms to memory. For LPs, we could just wedge them into the form of one of these primal-dual pairs by reshaping the problem with additional equality constraints, where something of the form\n",
    "$$\n",
    "p^* = \\min_x c^\\top x\\,\\text{s.t.}\\,Ax=b,x\\ge 0\n",
    "$$\n",
    "has dual\n",
    "$$\n",
    "d^* = \\min_y b^\\top y\\,\\text{s.t.}\\,A^\\top y\\le c\\,.\n",
    "$$\n",
    "But in more generic settings or when we don't remember the above, we need FIEFdom!"
   ]
  },
  {
   "cell_type": "markdown",
   "metadata": {},
   "source": [
    "## FIEFdom\n",
    "\n",
    "FIEFdom stands for\n",
    "\n",
    "1. **F**lip the optimization direction\n",
    "2. **I**mply to rid original direction\n",
    "3. **E**quate instead of imply\n",
    "4. **F**ree bound quantifiers, lifting to optimization **dom**ain.\n",
    "\n",
    "Let's see how it works for LPs."
   ]
  },
  {
   "cell_type": "markdown",
   "metadata": {},
   "source": [
    "#### LP FIEFdom\n",
    "\n",
    "We start off with our original LP,\n",
    "$$\n",
    "p^* = \\min_x c^\\top x\\,\\text{s.t.}\\,Ax=b,x\\ge 0\\,.\n",
    "$$\n",
    "Introduce a trivial lower bound such that $\\gamma\\le c^\\top x$, so $\\max_\\gamma \\gamma=p^*$. This **flips** the optimization direction to go in the direction of the dual.\n",
    "$$\n",
    "p^* = \\max_\\gamma\\min_x\\gamma \\,\\text{s.t.}\\,Ax=b,x\\ge 0,\\gamma\\le c^\\top x\\,.\n",
    "$$\n",
    "We reformulate the minimization where $x\\in \\{x': Ax=b,x\\ge0\\}$ as an equivalent **implication**:\n",
    "$$\n",
    "p^* = \\max_\\gamma\\gamma \\,\\text{s.t.}\\,\\forall x\\,Ax=b,x\\ge 0\\implies \\gamma\\le c^\\top x\\,.\n",
    "$$\n",
    "The **equation** replacement for the implication is the most sophisticated step. So far, we've been modifying our primal to be exactly equal to the original problem. What we'll do now is re-write our predicate that defines the domain of optimization. Right now our single-variable program is just the maximum of the set $S=\\{\\gamma: \\forall x\\,Ax=b,x\\ge 0\\implies \\gamma\\le c^\\top x\\}$. We'll come up with a predicate $\\exists\\lambda\\,\\exists\\mu\\ge 0\\,\\forall x\\,\\mathcal{L}(x, \\lambda, \\mu)=\\gamma$ that implies _the implication_ $\\forall x\\,Ax=b,x\\ge 0\\implies \\gamma\\le c^\\top x$. This means that the set $L=\\{\\gamma:\\exists\\lambda\\exists\\mu\\ge 0\\forall x\\, \\mathcal{L}(x, \\lambda, \\mu)=\\gamma\\}$ is smaller, i.e., $L\\subset S$, and thus $d^*=\\max L\\le \\max S = p^*$. We haven't defined $\\mathcal{L}$ yet but after we do we'll achieve weak duality by construction.\n",
    "\n",
    "Define $\\mathcal{L}(x,\\lambda,\\mu)=c^\\top x - (Ax-b)^\\top \\eta-x^\\top \\mu$ (i.e., the Lagrangian). This makes our statement defining $L$ into\n",
    "$$\n",
    "(*)\\, \\exists\\lambda\\,\\exists\\mu\\ge 0\\,\\forall x\\, (Ax-b)^\\top \\eta+x^\\top \\mu = c^\\top x -\\gamma\\,.\n",
    "$$\n",
    "Now, assuming this holds, then does the implication $\\forall x\\, Ax=b,x\\ge 0\\implies 0\\le c^\\top x-\\gamma$? Indeed! Assuming the antecedent the left hand side of the equality $(*)$ simplifies to $x^\\top\\mu\\ge 0$ since both vectors are positive, proving the conclusion. It's worth noting that we'll always be able to do this, even for nonlinear nonconvex programs, when $\\lambda$ is associated with the equality constraints and $\\mu$ is associated with the less-than-equal-to constraints.\n",
    "\n",
    "After making this substitution, we know the objective value may go down, so we have now\n",
    "$$\n",
    "p^*\\ge d^*=\\max_\\gamma \\gamma\\,\\text{s.t.}\\,\\exists\\lambda\\,\\exists\\mu\\ge 0\\,\\forall x\\,\\mathcal{L}(x, \\lambda, \\mu)=\\gamma\\,.\n",
    "$$\n",
    "To **free** ourselves of these quantifiers, let's take a closer look at $(*)$:\n",
    "$$\n",
    "\\exists\\lambda\\,\\exists\\mu\\ge 0\\,\\forall x\\,x^\\top (A^\\top\\eta+\\mu)-b^\\top \\eta = x^\\top c -\\gamma\\,.\n",
    "$$\n",
    "For both sides of a polynomial equation to be equal, we must have identical coefficients. Thus we have an identical predicate (and thus identical maximization program):\n",
    "$$\n",
    "\\exists\\lambda\\,\\exists\\mu\\ge 0\\,A^\\top\\eta+\\mu=c,b^\\top \\eta =\\gamma\\,,\n",
    "$$\n",
    "which by positivity of $\\mu$ is true iff\n",
    "$$\n",
    "\\exists\\lambda\\,A^\\top\\eta\\le c,b^\\top \\eta =\\gamma\\,,\n",
    "$$\n",
    "and thus by replacing $\\gamma$ in the original optimization problem **domain** yields\n",
    "$$\n",
    "p^*\\ge d^*=\\max_\\eta b^\\top \\eta\\,\\text{s.t.}\\, A^\\top\\eta\\le c\\,,\n",
    "$$\n",
    "which is indeed the LP dual!"
   ]
  },
  {
   "cell_type": "markdown",
   "metadata": {},
   "source": [
    "#### Strong Duality\n",
    "\n",
    "What I like about this dualization algorithm is that it sheds a new light on strong duality. The duality gap appears when $L\\subsetneq S$ from the equation step.\n",
    "\n",
    "So we have strong duality precisely when $S\\subset L$, i.e., in the case of an LP, the implication\n",
    "$$\n",
    "\\forall x\\,Ax=b,x\\ge 0\\implies \\gamma\\le c^\\top x\n",
    "$$\n",
    "itself implies \n",
    "$$\n",
    "\\exists\\lambda\\,\\exists\\mu\\ge 0\\,\\forall x\\, (Ax-b)^\\top \\eta+x^\\top \\mu = c^\\top x -\\gamma\\,.\n",
    "$$\n",
    "\n",
    "In the case of LPs, this implication is well-known as [Farkas' Lemma](https://en.wikipedia.org/wiki/Farkas%27_lemma). In general, for arbitrary, possibly nonconvex programs, showing these linear equations essentially amounts to strong alternatives ([Convex Optimization](https://web.stanford.edu/~boyd/cvxbook/), Chapter 5)."
   ]
  },
  {
   "cell_type": "code",
   "execution_count": null,
   "metadata": {},
   "outputs": [],
   "source": []
  }
 ],
 "metadata": {
  "kernelspec": {
   "display_name": "Python 3",
   "language": "python",
   "name": "python3"
  },
  "language_info": {
   "codemirror_mode": {
    "name": "ipython",
    "version": 3
   },
   "file_extension": ".py",
   "mimetype": "text/x-python",
   "name": "python",
   "nbconvert_exporter": "python",
   "pygments_lexer": "ipython3",
   "version": "3.7.4"
  }
 },
 "nbformat": 4,
 "nbformat_minor": 2
}
